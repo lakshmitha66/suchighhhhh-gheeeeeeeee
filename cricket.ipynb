{
 "cells": [
  {
   "cell_type": "markdown",
   "id": "7d6f8e19",
   "metadata": {},
   "source": [
    "## CRICKET MATCH RESULT"
   ]
  },
  {
   "cell_type": "code",
   "execution_count": 443,
   "id": "78311162",
   "metadata": {},
   "outputs": [],
   "source": [
    "import numpy as np \n",
    "import pandas as pd\n",
    "import matplotlib.pyplot as plt\n",
    "from sklearn.linear_model import LinearRegression\n",
    "import statsmodels.api as sm\n",
    "import statsmodels.formula.api as smf\n",
    "import seaborn as sns\n",
    "from sklearn.preprocessing import scale \n",
    "from sklearn.model_selection import train_test_split, GridSearchCV, cross_val_score\n",
    "from sklearn.metrics import confusion_matrix, accuracy_score, classification_report\n",
    "from sklearn.metrics import roc_auc_score,roc_curve\n",
    "import statsmodels.formula.api as smf\n",
    "from sklearn.linear_model import LogisticRegression\n",
    "from sklearn.metrics import mean_squared_error, r2_score\n",
    "cricket = pd.read_csv(\"cricket.csv\")\n"
   ]
  },
  {
   "cell_type": "code",
   "execution_count": 444,
   "id": "8b30129e",
   "metadata": {},
   "outputs": [
    {
     "name": "stdout",
     "output_type": "stream",
     "text": [
      "(296, 10)\n"
     ]
    }
   ],
   "source": [
    "print(cricket.shape)"
   ]
  },
  {
   "cell_type": "code",
   "execution_count": 445,
   "id": "4560f6ee",
   "metadata": {},
   "outputs": [],
   "source": [
    "cricket.dropna(inplace=True)"
   ]
  },
  {
   "cell_type": "code",
   "execution_count": 446,
   "id": "7af0a46a",
   "metadata": {},
   "outputs": [
    {
     "name": "stdout",
     "output_type": "stream",
     "text": [
      "<class 'pandas.core.frame.DataFrame'>\n",
      "Int64Index: 292 entries, 0 to 291\n",
      "Data columns (total 10 columns):\n",
      " #   Column     Non-Null Count  Dtype  \n",
      "---  ------     --------------  -----  \n",
      " 0   Batsman    292 non-null    int64  \n",
      " 1   Runs       292 non-null    int64  \n",
      " 2   Mins       292 non-null    float64\n",
      " 3   BF         292 non-null    int64  \n",
      " 4   4s         292 non-null    int64  \n",
      " 5   6s         292 non-null    int64  \n",
      " 6   SR         292 non-null    float64\n",
      " 7   Pos        292 non-null    int64  \n",
      " 8   Dismissal  292 non-null    object \n",
      " 9   Inns       292 non-null    int64  \n",
      "dtypes: float64(2), int64(7), object(1)\n",
      "memory usage: 25.1+ KB\n"
     ]
    }
   ],
   "source": [
    "cricket.info()"
   ]
  },
  {
   "cell_type": "code",
   "execution_count": 447,
   "id": "2dfafd93",
   "metadata": {},
   "outputs": [],
   "source": [
    "crickcet_df = cricket[[\"Batsman\",\"Runs\",\"Mins\",\"BF\",\"4s\",\"6s\",\"SR\",\"Pos\",\"Inns\",\"Dismissal\"]]\n"
   ]
  },
  {
   "cell_type": "code",
   "execution_count": 448,
   "id": "71eda466",
   "metadata": {},
   "outputs": [
    {
     "name": "stdout",
     "output_type": "stream",
     "text": [
      "Index(['Batsman', 'Runs', 'Mins', 'BF', '4s', '6s', 'SR', 'Pos', 'Inns',\n",
      "       'Dismissal_bowled', 'Dismissal_caught', 'Dismissal_hit wicket',\n",
      "       'Dismissal_lbw', 'Dismissal_not out', 'Dismissal_run out',\n",
      "       'Dismissal_stumped'],\n",
      "      dtype='object')\n"
     ]
    }
   ],
   "source": [
    "cat_features =[ \"Dismissal\"]\n",
    "crickcet_df= pd.get_dummies(crickcet_df,columns=cat_features)\n",
    "print(crickcet_df.columns)"
   ]
  },
  {
   "cell_type": "code",
   "execution_count": 449,
   "id": "b52a7c19",
   "metadata": {},
   "outputs": [
    {
     "data": {
      "text/plain": [
       "array([[-1.38425413, -0.36686036, -0.37405863, ..., -0.05851783,\n",
       "        -0.05655681, -0.29240701],\n",
       "       [-1.38425413, -0.36686036, -0.38237358, ...,  0.2083509 ,\n",
       "        -0.05655681,  1.56374183],\n",
       "       [-1.38425413,  3.03625132,  3.15979311, ...,  0.04322191,\n",
       "        -0.05655681, -1.22048143],\n",
       "       ...,\n",
       "       [ 1.88070714, -0.75952709, -0.59856216, ..., -0.92536576,\n",
       "        -1.8915112 ,  0.63566741],\n",
       "       [ 1.88070714, -0.25466986, -0.29922413, ..., -0.08133795,\n",
       "         1.77839758, -0.29240701],\n",
       "       [ 1.88070714, -0.98390808, -1.00599447, ..., -1.925965  ,\n",
       "        -1.8915112 ,  1.56374183]])"
      ]
     },
     "execution_count": 449,
     "metadata": {},
     "output_type": "execute_result"
    }
   ],
   "source": [
    "from sklearn.preprocessing import StandardScaler\n",
    "scaler = StandardScaler().fit(crickcet_df[[\"Batsman\",\"Runs\",\"Mins\",\"BF\",\"4s\",\"6s\",\"SR\",\"Pos\",\"Inns\"]]) \n",
    "cricket_data_normalized = scaler.transform(crickcet_df[[\"Batsman\",\"Runs\",\"Mins\",\"BF\",\"4s\",\"6s\",\"SR\",\"Pos\",\"Inns\"]])# Scaled data \n",
    "cricket_data_normalized\n"
   ]
  },
  {
   "cell_type": "code",
   "execution_count": 450,
   "id": "19d89d21",
   "metadata": {},
   "outputs": [],
   "source": [
    "cricket_data_normalized=pd.DataFrame(crickcet_df,columns=[\"Batsman\",\"Runs\",\"Mins\",\"BF\",\"4s\",\"6s\",\"SR\",\"Pos\",\"Inns\"])\n",
    "cricket_data_normalized=cricket_data_normalized.join(crickcet_df[crickcet_df.columns.drop([\"Batsman\",\"Runs\",\"Mins\",\"BF\",\"4s\",\"6s\",\"SR\",\"Pos\",\"Inns\"])])\n"
   ]
  },
  {
   "cell_type": "code",
   "execution_count": 451,
   "id": "8370ce4a",
   "metadata": {},
   "outputs": [
    {
     "name": "stdout",
     "output_type": "stream",
     "text": [
      "(292, 15)\n"
     ]
    }
   ],
   "source": [
    "Y = cricket_data_normalized['Runs']\n",
    "X = cricket_data_normalized[cricket_data_normalized.columns.drop('Runs')]\n",
    "print(X.shape)"
   ]
  },
  {
   "cell_type": "code",
   "execution_count": 452,
   "id": "d25e5a8b",
   "metadata": {},
   "outputs": [
    {
     "data": {
      "text/plain": [
       "((233, 15), (59, 15))"
      ]
     },
     "execution_count": 452,
     "metadata": {},
     "output_type": "execute_result"
    }
   ],
   "source": [
    "from sklearn.model_selection import train_test_split\n",
    "X_train,X_test,Y_train,Y_test = train_test_split(X,Y,test_size=0.2, random_state=100)\n",
    "X_train.shape , X_test.shape"
   ]
  },
  {
   "cell_type": "code",
   "execution_count": 453,
   "id": "42bad19c",
   "metadata": {},
   "outputs": [
    {
     "name": "stdout",
     "output_type": "stream",
     "text": [
      "Train Score (R-Squared):  0.9669140540767381\n",
      "Test Score (R-Squared) 0.9718589336780544\n"
     ]
    }
   ],
   "source": [
    "from sklearn.linear_model import LinearRegression\n",
    "model = LinearRegression()\n",
    "model.fit(X_train,Y_train)\n",
    "train_score=model.score(X_train,Y_train)\n",
    "test_score=model.score(X_test,Y_test)\n",
    "print('Train Score (R-Squared): ',train_score)\n",
    "print('Test Score (R-Squared)',test_score)\n"
   ]
  },
  {
   "cell_type": "code",
   "execution_count": 454,
   "id": "1bec3f5a",
   "metadata": {},
   "outputs": [
    {
     "name": "stdout",
     "output_type": "stream",
     "text": [
      "Train RMSE :  9.601052407372311\n",
      "Test RMSE :  9.416545426687087\n"
     ]
    }
   ],
   "source": [
    "from sklearn.metrics import mean_squared_error\n",
    "train_predictions = model.predict(X_train)\n",
    "train_RMSE=mean_squared_error(Y_train,train_predictions)**0.5\n",
    "test_predictions = model.predict(X_test)\n",
    "test_RMSE=mean_squared_error(Y_test,test_predictions)**0.5\n",
    "print('Train RMSE : ',train_RMSE)\n",
    "print('Test RMSE : ',test_RMSE)"
   ]
  },
  {
   "cell_type": "markdown",
   "id": "8cfe4956",
   "metadata": {},
   "source": [
    "##  PERFORMANCE OF A CRICKET PLAYER"
   ]
  },
  {
   "cell_type": "code",
   "execution_count": 455,
   "id": "22b35d68",
   "metadata": {},
   "outputs": [],
   "source": [
    "import numpy as np # linear algebra\n",
    "import pandas as pd # data processing, CSV file I/O (e.g. pd.read_csv)\n",
    "import matplotlib.pyplot as plt\n",
    "from sklearn.linear_model import LinearRegression\n",
    "import statsmodels.api as sm\n",
    "import statsmodels.formula.api as smf\n",
    "import seaborn as sns\n",
    "from sklearn.preprocessing import scale \n",
    "from sklearn.model_selection import train_test_split, GridSearchCV, cross_val_score\n",
    "from sklearn.metrics import confusion_matrix, accuracy_score, classification_report\n",
    "from sklearn.metrics import roc_auc_score,roc_curve\n",
    "import statsmodels.formula.api as smf\n",
    "from sklearn.linear_model import LogisticRegression\n",
    "from sklearn.metrics import mean_squared_error, r2_score\n",
    "performance = pd.read_csv(\"performance.csv\")\n"
   ]
  },
  {
   "cell_type": "code",
   "execution_count": 456,
   "id": "25806d7b",
   "metadata": {},
   "outputs": [
    {
     "name": "stdout",
     "output_type": "stream",
     "text": [
      "(179078, 9)\n"
     ]
    }
   ],
   "source": [
    "print(performance.shape)"
   ]
  },
  {
   "cell_type": "code",
   "execution_count": 457,
   "id": "ccdf4d04",
   "metadata": {},
   "outputs": [
    {
     "data": {
      "text/html": [
       "<div>\n",
       "<style scoped>\n",
       "    .dataframe tbody tr th:only-of-type {\n",
       "        vertical-align: middle;\n",
       "    }\n",
       "\n",
       "    .dataframe tbody tr th {\n",
       "        vertical-align: top;\n",
       "    }\n",
       "\n",
       "    .dataframe thead th {\n",
       "        text-align: right;\n",
       "    }\n",
       "</style>\n",
       "<table border=\"1\" class=\"dataframe\">\n",
       "  <thead>\n",
       "    <tr style=\"text-align: right;\">\n",
       "      <th></th>\n",
       "      <th>inning</th>\n",
       "      <th>over</th>\n",
       "      <th>ball</th>\n",
       "      <th>batsman</th>\n",
       "      <th>bowler</th>\n",
       "      <th>batsman_runs</th>\n",
       "      <th>extra_runs</th>\n",
       "      <th>total_runs</th>\n",
       "      <th>Unnamed: 8</th>\n",
       "    </tr>\n",
       "  </thead>\n",
       "  <tbody>\n",
       "    <tr>\n",
       "      <th>0</th>\n",
       "      <td>False</td>\n",
       "      <td>False</td>\n",
       "      <td>False</td>\n",
       "      <td>False</td>\n",
       "      <td>False</td>\n",
       "      <td>False</td>\n",
       "      <td>False</td>\n",
       "      <td>False</td>\n",
       "      <td>True</td>\n",
       "    </tr>\n",
       "    <tr>\n",
       "      <th>1</th>\n",
       "      <td>False</td>\n",
       "      <td>False</td>\n",
       "      <td>False</td>\n",
       "      <td>False</td>\n",
       "      <td>False</td>\n",
       "      <td>False</td>\n",
       "      <td>False</td>\n",
       "      <td>False</td>\n",
       "      <td>True</td>\n",
       "    </tr>\n",
       "    <tr>\n",
       "      <th>2</th>\n",
       "      <td>False</td>\n",
       "      <td>False</td>\n",
       "      <td>False</td>\n",
       "      <td>False</td>\n",
       "      <td>False</td>\n",
       "      <td>False</td>\n",
       "      <td>False</td>\n",
       "      <td>False</td>\n",
       "      <td>True</td>\n",
       "    </tr>\n",
       "    <tr>\n",
       "      <th>3</th>\n",
       "      <td>False</td>\n",
       "      <td>False</td>\n",
       "      <td>False</td>\n",
       "      <td>False</td>\n",
       "      <td>False</td>\n",
       "      <td>False</td>\n",
       "      <td>False</td>\n",
       "      <td>False</td>\n",
       "      <td>True</td>\n",
       "    </tr>\n",
       "    <tr>\n",
       "      <th>4</th>\n",
       "      <td>False</td>\n",
       "      <td>False</td>\n",
       "      <td>False</td>\n",
       "      <td>False</td>\n",
       "      <td>False</td>\n",
       "      <td>False</td>\n",
       "      <td>False</td>\n",
       "      <td>False</td>\n",
       "      <td>True</td>\n",
       "    </tr>\n",
       "    <tr>\n",
       "      <th>...</th>\n",
       "      <td>...</td>\n",
       "      <td>...</td>\n",
       "      <td>...</td>\n",
       "      <td>...</td>\n",
       "      <td>...</td>\n",
       "      <td>...</td>\n",
       "      <td>...</td>\n",
       "      <td>...</td>\n",
       "      <td>...</td>\n",
       "    </tr>\n",
       "    <tr>\n",
       "      <th>179073</th>\n",
       "      <td>False</td>\n",
       "      <td>False</td>\n",
       "      <td>False</td>\n",
       "      <td>False</td>\n",
       "      <td>False</td>\n",
       "      <td>False</td>\n",
       "      <td>False</td>\n",
       "      <td>False</td>\n",
       "      <td>True</td>\n",
       "    </tr>\n",
       "    <tr>\n",
       "      <th>179074</th>\n",
       "      <td>False</td>\n",
       "      <td>False</td>\n",
       "      <td>False</td>\n",
       "      <td>False</td>\n",
       "      <td>False</td>\n",
       "      <td>False</td>\n",
       "      <td>False</td>\n",
       "      <td>False</td>\n",
       "      <td>True</td>\n",
       "    </tr>\n",
       "    <tr>\n",
       "      <th>179075</th>\n",
       "      <td>False</td>\n",
       "      <td>False</td>\n",
       "      <td>False</td>\n",
       "      <td>False</td>\n",
       "      <td>False</td>\n",
       "      <td>False</td>\n",
       "      <td>False</td>\n",
       "      <td>False</td>\n",
       "      <td>True</td>\n",
       "    </tr>\n",
       "    <tr>\n",
       "      <th>179076</th>\n",
       "      <td>False</td>\n",
       "      <td>False</td>\n",
       "      <td>False</td>\n",
       "      <td>False</td>\n",
       "      <td>False</td>\n",
       "      <td>False</td>\n",
       "      <td>False</td>\n",
       "      <td>False</td>\n",
       "      <td>True</td>\n",
       "    </tr>\n",
       "    <tr>\n",
       "      <th>179077</th>\n",
       "      <td>False</td>\n",
       "      <td>False</td>\n",
       "      <td>False</td>\n",
       "      <td>False</td>\n",
       "      <td>False</td>\n",
       "      <td>False</td>\n",
       "      <td>False</td>\n",
       "      <td>False</td>\n",
       "      <td>True</td>\n",
       "    </tr>\n",
       "  </tbody>\n",
       "</table>\n",
       "<p>179078 rows × 9 columns</p>\n",
       "</div>"
      ],
      "text/plain": [
       "        inning   over   ball  batsman  bowler  batsman_runs  extra_runs  \\\n",
       "0        False  False  False    False   False         False       False   \n",
       "1        False  False  False    False   False         False       False   \n",
       "2        False  False  False    False   False         False       False   \n",
       "3        False  False  False    False   False         False       False   \n",
       "4        False  False  False    False   False         False       False   \n",
       "...        ...    ...    ...      ...     ...           ...         ...   \n",
       "179073   False  False  False    False   False         False       False   \n",
       "179074   False  False  False    False   False         False       False   \n",
       "179075   False  False  False    False   False         False       False   \n",
       "179076   False  False  False    False   False         False       False   \n",
       "179077   False  False  False    False   False         False       False   \n",
       "\n",
       "        total_runs  Unnamed: 8  \n",
       "0            False        True  \n",
       "1            False        True  \n",
       "2            False        True  \n",
       "3            False        True  \n",
       "4            False        True  \n",
       "...            ...         ...  \n",
       "179073       False        True  \n",
       "179074       False        True  \n",
       "179075       False        True  \n",
       "179076       False        True  \n",
       "179077       False        True  \n",
       "\n",
       "[179078 rows x 9 columns]"
      ]
     },
     "execution_count": 457,
     "metadata": {},
     "output_type": "execute_result"
    }
   ],
   "source": [
    "performance.isnull()"
   ]
  },
  {
   "cell_type": "code",
   "execution_count": 458,
   "id": "3801cd19",
   "metadata": {},
   "outputs": [
    {
     "data": {
      "text/html": [
       "<div>\n",
       "<style scoped>\n",
       "    .dataframe tbody tr th:only-of-type {\n",
       "        vertical-align: middle;\n",
       "    }\n",
       "\n",
       "    .dataframe tbody tr th {\n",
       "        vertical-align: top;\n",
       "    }\n",
       "\n",
       "    .dataframe thead th {\n",
       "        text-align: right;\n",
       "    }\n",
       "</style>\n",
       "<table border=\"1\" class=\"dataframe\">\n",
       "  <thead>\n",
       "    <tr style=\"text-align: right;\">\n",
       "      <th></th>\n",
       "      <th>inning</th>\n",
       "      <th>over</th>\n",
       "      <th>ball</th>\n",
       "      <th>batsman</th>\n",
       "      <th>bowler</th>\n",
       "      <th>batsman_runs</th>\n",
       "      <th>extra_runs</th>\n",
       "      <th>total_runs</th>\n",
       "      <th>Unnamed: 8</th>\n",
       "    </tr>\n",
       "  </thead>\n",
       "  <tbody>\n",
       "    <tr>\n",
       "      <th>0</th>\n",
       "      <td>1</td>\n",
       "      <td>1</td>\n",
       "      <td>1</td>\n",
       "      <td>DA Warner</td>\n",
       "      <td>TS Mills</td>\n",
       "      <td>0</td>\n",
       "      <td>0</td>\n",
       "      <td>0</td>\n",
       "      <td>0.0</td>\n",
       "    </tr>\n",
       "    <tr>\n",
       "      <th>1</th>\n",
       "      <td>1</td>\n",
       "      <td>1</td>\n",
       "      <td>2</td>\n",
       "      <td>DA Warner</td>\n",
       "      <td>TS Mills</td>\n",
       "      <td>0</td>\n",
       "      <td>0</td>\n",
       "      <td>0</td>\n",
       "      <td>0.0</td>\n",
       "    </tr>\n",
       "    <tr>\n",
       "      <th>2</th>\n",
       "      <td>1</td>\n",
       "      <td>1</td>\n",
       "      <td>3</td>\n",
       "      <td>DA Warner</td>\n",
       "      <td>TS Mills</td>\n",
       "      <td>4</td>\n",
       "      <td>0</td>\n",
       "      <td>4</td>\n",
       "      <td>0.0</td>\n",
       "    </tr>\n",
       "    <tr>\n",
       "      <th>3</th>\n",
       "      <td>1</td>\n",
       "      <td>1</td>\n",
       "      <td>4</td>\n",
       "      <td>DA Warner</td>\n",
       "      <td>TS Mills</td>\n",
       "      <td>0</td>\n",
       "      <td>0</td>\n",
       "      <td>0</td>\n",
       "      <td>0.0</td>\n",
       "    </tr>\n",
       "    <tr>\n",
       "      <th>4</th>\n",
       "      <td>1</td>\n",
       "      <td>1</td>\n",
       "      <td>5</td>\n",
       "      <td>DA Warner</td>\n",
       "      <td>TS Mills</td>\n",
       "      <td>0</td>\n",
       "      <td>2</td>\n",
       "      <td>2</td>\n",
       "      <td>0.0</td>\n",
       "    </tr>\n",
       "    <tr>\n",
       "      <th>...</th>\n",
       "      <td>...</td>\n",
       "      <td>...</td>\n",
       "      <td>...</td>\n",
       "      <td>...</td>\n",
       "      <td>...</td>\n",
       "      <td>...</td>\n",
       "      <td>...</td>\n",
       "      <td>...</td>\n",
       "      <td>...</td>\n",
       "    </tr>\n",
       "    <tr>\n",
       "      <th>179073</th>\n",
       "      <td>2</td>\n",
       "      <td>20</td>\n",
       "      <td>2</td>\n",
       "      <td>RA Jadeja</td>\n",
       "      <td>SL Malinga</td>\n",
       "      <td>1</td>\n",
       "      <td>0</td>\n",
       "      <td>1</td>\n",
       "      <td>0.0</td>\n",
       "    </tr>\n",
       "    <tr>\n",
       "      <th>179074</th>\n",
       "      <td>2</td>\n",
       "      <td>20</td>\n",
       "      <td>3</td>\n",
       "      <td>SR Watson</td>\n",
       "      <td>SL Malinga</td>\n",
       "      <td>2</td>\n",
       "      <td>0</td>\n",
       "      <td>2</td>\n",
       "      <td>0.0</td>\n",
       "    </tr>\n",
       "    <tr>\n",
       "      <th>179075</th>\n",
       "      <td>2</td>\n",
       "      <td>20</td>\n",
       "      <td>4</td>\n",
       "      <td>SR Watson</td>\n",
       "      <td>SL Malinga</td>\n",
       "      <td>1</td>\n",
       "      <td>0</td>\n",
       "      <td>1</td>\n",
       "      <td>0.0</td>\n",
       "    </tr>\n",
       "    <tr>\n",
       "      <th>179076</th>\n",
       "      <td>2</td>\n",
       "      <td>20</td>\n",
       "      <td>5</td>\n",
       "      <td>SN Thakur</td>\n",
       "      <td>SL Malinga</td>\n",
       "      <td>2</td>\n",
       "      <td>0</td>\n",
       "      <td>2</td>\n",
       "      <td>0.0</td>\n",
       "    </tr>\n",
       "    <tr>\n",
       "      <th>179077</th>\n",
       "      <td>2</td>\n",
       "      <td>20</td>\n",
       "      <td>6</td>\n",
       "      <td>SN Thakur</td>\n",
       "      <td>SL Malinga</td>\n",
       "      <td>0</td>\n",
       "      <td>0</td>\n",
       "      <td>0</td>\n",
       "      <td>0.0</td>\n",
       "    </tr>\n",
       "  </tbody>\n",
       "</table>\n",
       "<p>179078 rows × 9 columns</p>\n",
       "</div>"
      ],
      "text/plain": [
       "        inning  over  ball    batsman      bowler  batsman_runs  extra_runs  \\\n",
       "0            1     1     1  DA Warner    TS Mills             0           0   \n",
       "1            1     1     2  DA Warner    TS Mills             0           0   \n",
       "2            1     1     3  DA Warner    TS Mills             4           0   \n",
       "3            1     1     4  DA Warner    TS Mills             0           0   \n",
       "4            1     1     5  DA Warner    TS Mills             0           2   \n",
       "...        ...   ...   ...        ...         ...           ...         ...   \n",
       "179073       2    20     2  RA Jadeja  SL Malinga             1           0   \n",
       "179074       2    20     3  SR Watson  SL Malinga             2           0   \n",
       "179075       2    20     4  SR Watson  SL Malinga             1           0   \n",
       "179076       2    20     5  SN Thakur  SL Malinga             2           0   \n",
       "179077       2    20     6  SN Thakur  SL Malinga             0           0   \n",
       "\n",
       "        total_runs  Unnamed: 8  \n",
       "0                0         0.0  \n",
       "1                0         0.0  \n",
       "2                4         0.0  \n",
       "3                0         0.0  \n",
       "4                2         0.0  \n",
       "...            ...         ...  \n",
       "179073           1         0.0  \n",
       "179074           2         0.0  \n",
       "179075           1         0.0  \n",
       "179076           2         0.0  \n",
       "179077           0         0.0  \n",
       "\n",
       "[179078 rows x 9 columns]"
      ]
     },
     "execution_count": 458,
     "metadata": {},
     "output_type": "execute_result"
    }
   ],
   "source": [
    "performance.fillna(0)"
   ]
  },
  {
   "cell_type": "code",
   "execution_count": 459,
   "id": "233a63fe",
   "metadata": {},
   "outputs": [
    {
     "name": "stdout",
     "output_type": "stream",
     "text": [
      "<class 'pandas.core.frame.DataFrame'>\n",
      "RangeIndex: 179078 entries, 0 to 179077\n",
      "Data columns (total 9 columns):\n",
      " #   Column        Non-Null Count   Dtype  \n",
      "---  ------        --------------   -----  \n",
      " 0   inning        179078 non-null  int64  \n",
      " 1   over          179078 non-null  int64  \n",
      " 2   ball          179078 non-null  int64  \n",
      " 3   batsman       179078 non-null  object \n",
      " 4   bowler        179078 non-null  object \n",
      " 5   batsman_runs  179078 non-null  int64  \n",
      " 6   extra_runs    179078 non-null  int64  \n",
      " 7   total_runs    179078 non-null  int64  \n",
      " 8   Unnamed: 8    0 non-null       float64\n",
      "dtypes: float64(1), int64(6), object(2)\n",
      "memory usage: 12.3+ MB\n"
     ]
    }
   ],
   "source": [
    "performance.info()"
   ]
  },
  {
   "cell_type": "code",
   "execution_count": 460,
   "id": "9f4f701c",
   "metadata": {},
   "outputs": [],
   "source": [
    "performance_df = performance[[\"inning\",\"over\",\"batsman\",\"bowler\",\"batsman_runs\",\"extra_runs\",\"total_runs\"]]\n"
   ]
  },
  {
   "cell_type": "code",
   "execution_count": 461,
   "id": "6915bd3f",
   "metadata": {},
   "outputs": [
    {
     "name": "stdout",
     "output_type": "stream",
     "text": [
      "Index(['inning', 'over', 'batsman_runs', 'extra_runs', 'total_runs',\n",
      "       'batsman_A Ashish Reddy', 'batsman_A Chandila', 'batsman_A Chopra',\n",
      "       'batsman_A Choudhary', 'batsman_A Dananjaya',\n",
      "       ...\n",
      "       'bowler_WPUJC Vaas', 'bowler_Washington Sundar',\n",
      "       'bowler_Y Gnaneswara Rao', 'bowler_Y Nagar', 'bowler_Y Venugopal Rao',\n",
      "       'bowler_YA Abdulla', 'bowler_YK Pathan', 'bowler_YS Chahal',\n",
      "       'bowler_Yuvraj Singh', 'bowler_Z Khan'],\n",
      "      dtype='object', length=926)\n"
     ]
    }
   ],
   "source": [
    "cat_features =[ \"batsman\",\"bowler\"]\n",
    "performance_df= pd.get_dummies(performance_df,columns=cat_features)\n",
    "print(performance_df.columns)"
   ]
  },
  {
   "cell_type": "code",
   "execution_count": 462,
   "id": "391e7449",
   "metadata": {},
   "outputs": [
    {
     "data": {
      "text/plain": [
       "array([[-0.96191553, -1.61377649, -0.7752851 , -0.19568488, -0.81841453],\n",
       "       [-0.96191553, -1.61377649, -0.7752851 , -0.19568488, -0.81841453],\n",
       "       [-0.96191553, -1.61377649,  1.711866  , -0.19568488,  1.67314971],\n",
       "       ...,\n",
       "       [ 1.02982775,  1.73266759, -0.15349733, -0.19568488, -0.19552347],\n",
       "       [ 1.02982775,  1.73266759,  0.46829045, -0.19568488,  0.42736759],\n",
       "       [ 1.02982775,  1.73266759, -0.7752851 , -0.19568488, -0.81841453]])"
      ]
     },
     "execution_count": 462,
     "metadata": {},
     "output_type": "execute_result"
    }
   ],
   "source": [
    "from sklearn.preprocessing import StandardScaler\n",
    "scaler = StandardScaler().fit(performance_df[[\"inning\",\"over\",\"batsman_runs\",\"extra_runs\",\"total_runs\"]]) \n",
    "performance_df_normalized = scaler.transform(performance_df[[\"inning\",\"over\",\"batsman_runs\",\"extra_runs\",\"total_runs\"]])# Scaled data \n",
    "performance_df_normalized\n"
   ]
  },
  {
   "cell_type": "code",
   "execution_count": 463,
   "id": "d17c8171",
   "metadata": {},
   "outputs": [],
   "source": [
    "performance_df_normalized=pd.DataFrame(performance_df,columns=[\"inning\",\"over\",\"batsman_runs\",\"extra_runs\",\"total_runs\"])\n",
    "performance_df_normalized=performance_df_normalized.join(performance_df[performance_df.columns.drop([\"inning\",\"over\",\"batsman_runs\",\"extra_runs\",\"total_runs\"])])\n"
   ]
  },
  {
   "cell_type": "code",
   "execution_count": 464,
   "id": "8bdbe07c",
   "metadata": {},
   "outputs": [
    {
     "name": "stdout",
     "output_type": "stream",
     "text": [
      "(179078, 925)\n"
     ]
    }
   ],
   "source": [
    "Y = performance_df_normalized['total_runs']\n",
    "X = performance_df_normalized[performance_df_normalized.columns.drop('total_runs')]\n",
    "print(X.shape)"
   ]
  },
  {
   "cell_type": "code",
   "execution_count": 465,
   "id": "79526686",
   "metadata": {},
   "outputs": [
    {
     "data": {
      "text/plain": [
       "((143262, 925), (35816, 925))"
      ]
     },
     "execution_count": 465,
     "metadata": {},
     "output_type": "execute_result"
    }
   ],
   "source": [
    "from sklearn.model_selection import train_test_split\n",
    "X_train,X_test,Y_train,Y_test = train_test_split(X,Y,test_size=0.2, random_state=100)\n",
    "X_train.shape , X_test.shape"
   ]
  },
  {
   "cell_type": "code",
   "execution_count": 472,
   "id": "d9191c0f",
   "metadata": {},
   "outputs": [
    {
     "name": "stdout",
     "output_type": "stream",
     "text": [
      "Train Score (R-Squared):  1.0\n",
      "Test Score (R-Squared) 0.9999999959719845\n"
     ]
    }
   ],
   "source": [
    "from sklearn.linear_model import LinearRegression\n",
    "model = LinearRegression()\n",
    "model.fit(X_train,Y_train)\n",
    "train_score=model.score(X_train,Y_train)\n",
    "test_score=model.score(X_test,Y_test)\n",
    "print('Train Score (R-Squared): ',train_score)\n",
    "print('Test Score (R-Squared)',test_score)\n"
   ]
  },
  {
   "cell_type": "code",
   "execution_count": 473,
   "id": "0652f48e",
   "metadata": {},
   "outputs": [
    {
     "name": "stdout",
     "output_type": "stream",
     "text": [
      "Train RMSE :  1.2307298242775225e-13\n",
      "Test RMSE :  0.00010231273001762702\n"
     ]
    }
   ],
   "source": [
    "from sklearn.metrics import mean_squared_error\n",
    "train_predictions = model.predict(X_train)\n",
    "train_RMSE=mean_squared_error(Y_train,train_predictions)**0.5\n",
    "test_predictions = model.predict(X_test)\n",
    "test_RMSE=mean_squared_error(Y_test,test_predictions)**0.5\n",
    "print('Train RMSE : ',train_RMSE)\n",
    "print('Test RMSE : ',test_RMSE)"
   ]
  },
  {
   "cell_type": "markdown",
   "id": "2f3723f7",
   "metadata": {},
   "source": [
    "## crop yield"
   ]
  },
  {
   "cell_type": "code",
   "execution_count": 474,
   "id": "5b7170b9",
   "metadata": {},
   "outputs": [],
   "source": [
    "import numpy as np # linear algebra\n",
    "import pandas as pd # data processing, CSV file I/O (e.g. pd.read_csv)\n",
    "import matplotlib.pyplot as plt\n",
    "from sklearn.linear_model import LinearRegression\n",
    "import statsmodels.api as sm\n",
    "import statsmodels.formula.api as smf\n",
    "import seaborn as sns\n",
    "from sklearn.preprocessing import scale \n",
    "from sklearn.model_selection import train_test_split, GridSearchCV, cross_val_score\n",
    "from sklearn.metrics import confusion_matrix, accuracy_score, classification_report\n",
    "from sklearn.metrics import roc_auc_score,roc_curve\n",
    "import statsmodels.formula.api as smf\n",
    "from sklearn.linear_model import LogisticRegression\n",
    "from sklearn.metrics import mean_squared_error, r2_score\n",
    "yield_ = pd.read_csv(\"yield_df.csv\")\n"
   ]
  },
  {
   "cell_type": "code",
   "execution_count": 475,
   "id": "27a30959",
   "metadata": {},
   "outputs": [
    {
     "name": "stdout",
     "output_type": "stream",
     "text": [
      "(28242, 7)\n"
     ]
    }
   ],
   "source": [
    "print(yield_.shape)"
   ]
  },
  {
   "cell_type": "code",
   "execution_count": 499,
   "id": "e0408c62",
   "metadata": {},
   "outputs": [],
   "source": [
    "yield_.dropna(inplace=True)"
   ]
  },
  {
   "cell_type": "code",
   "execution_count": 500,
   "id": "010a9d01",
   "metadata": {},
   "outputs": [
    {
     "name": "stdout",
     "output_type": "stream",
     "text": [
      "<class 'pandas.core.frame.DataFrame'>\n",
      "RangeIndex: 28242 entries, 0 to 28241\n",
      "Data columns (total 7 columns):\n",
      " #   Column                         Non-Null Count  Dtype  \n",
      "---  ------                         --------------  -----  \n",
      " 0   Area                           28242 non-null  object \n",
      " 1   Item                           28242 non-null  object \n",
      " 2   Year                           28242 non-null  int64  \n",
      " 3   hg/ha_yield                    28242 non-null  int64  \n",
      " 4   average_rain_fall_mm_per_year  28242 non-null  int64  \n",
      " 5   pesticides_tonnes              28242 non-null  float64\n",
      " 6   avg_temp                       28242 non-null  float64\n",
      "dtypes: float64(2), int64(3), object(2)\n",
      "memory usage: 1.5+ MB\n"
     ]
    }
   ],
   "source": [
    "yield_.info()"
   ]
  },
  {
   "cell_type": "code",
   "execution_count": 501,
   "id": "d0d3d238",
   "metadata": {},
   "outputs": [],
   "source": [
    "yield_df = yield_[[\"Area\",\"Item\",\"Year\",\"hg/ha_yield\",\"average_rain_fall_mm_per_year\",\"pesticides_tonnes\",\"avg_temp\"]]\n"
   ]
  },
  {
   "cell_type": "code",
   "execution_count": 502,
   "id": "6cc490ad",
   "metadata": {},
   "outputs": [
    {
     "name": "stdout",
     "output_type": "stream",
     "text": [
      "Index(['Year', 'hg/ha_yield', 'average_rain_fall_mm_per_year',\n",
      "       'pesticides_tonnes', 'avg_temp', 'Area_Albania', 'Area_Algeria',\n",
      "       'Area_Angola', 'Area_Argentina', 'Area_Armenia',\n",
      "       ...\n",
      "       'Item_Cassava', 'Item_Maize', 'Item_Plantains and others',\n",
      "       'Item_Potatoes', 'Item_Rice, paddy', 'Item_Sorghum', 'Item_Soybeans',\n",
      "       'Item_Sweet potatoes', 'Item_Wheat', 'Item_Yams'],\n",
      "      dtype='object', length=116)\n"
     ]
    }
   ],
   "source": [
    "cat_features =[ \"Area\",\"Item\"]\n",
    "yield_df= pd.get_dummies(yield_df,columns=cat_features)\n",
    "print(yield_df.columns)"
   ]
  },
  {
   "cell_type": "code",
   "execution_count": 503,
   "id": "9c047836",
   "metadata": {},
   "outputs": [
    {
     "data": {
      "text/plain": [
       "array([[-1.63707532, -0.47602001,  0.47329419, -0.61636612, -0.66106889],\n",
       "       [-1.63707532, -0.12225671,  0.47329419, -0.61636612, -0.66106889],\n",
       "       [-1.63707532, -0.63233786,  0.47329419, -0.61636612, -0.66106889],\n",
       "       ...,\n",
       "       [ 1.62451233, -0.75229534, -0.69323228, -0.57585308, -0.12399147],\n",
       "       [ 1.62451233, -0.64541536, -0.69323228, -0.57585308, -0.12399147],\n",
       "       [ 1.62451233, -0.63757593, -0.69323228, -0.57585308, -0.12399147]])"
      ]
     },
     "execution_count": 503,
     "metadata": {},
     "output_type": "execute_result"
    }
   ],
   "source": [
    "from sklearn.preprocessing import StandardScaler\n",
    "scaler = StandardScaler().fit(yield_df[[\"Year\",\"hg/ha_yield\",\"average_rain_fall_mm_per_year\",\"pesticides_tonnes\",\"avg_temp\"]]) \n",
    "yield_df_normalized = scaler.transform(yield_df[[\"Year\",\"hg/ha_yield\",\"average_rain_fall_mm_per_year\",\"pesticides_tonnes\",\"avg_temp\"]])# Scaled data \n",
    "yield_df_normalized\n"
   ]
  },
  {
   "cell_type": "code",
   "execution_count": 504,
   "id": "da84374f",
   "metadata": {},
   "outputs": [],
   "source": [
    "yield_df_normalized=pd.DataFrame(yield_df,columns=[\"Year\",\"hg/ha_yield\",\"average_rain_fall_mm_per_year\",\"pesticides_tonnes\",\"avg_temp\"])\n",
    "yield_df_normalized=yield_df_normalized.join(yield_df[yield_df.columns.drop([\"Year\",\"hg/ha_yield\",\"average_rain_fall_mm_per_year\",\"pesticides_tonnes\",\"avg_temp\"])])\n"
   ]
  },
  {
   "cell_type": "code",
   "execution_count": 505,
   "id": "8a96c5de",
   "metadata": {},
   "outputs": [
    {
     "name": "stdout",
     "output_type": "stream",
     "text": [
      "(28242, 115)\n"
     ]
    }
   ],
   "source": [
    "Y = yield_df_normalized['hg/ha_yield']\n",
    "X = yield_df_normalized[yield_df_normalized.columns.drop('hg/ha_yield')]\n",
    "print(X.shape)"
   ]
  },
  {
   "cell_type": "code",
   "execution_count": 506,
   "id": "04cd6c4c",
   "metadata": {},
   "outputs": [
    {
     "data": {
      "text/plain": [
       "((25417, 115), (2825, 115))"
      ]
     },
     "execution_count": 506,
     "metadata": {},
     "output_type": "execute_result"
    }
   ],
   "source": [
    "from sklearn.model_selection import train_test_split\n",
    "X_train,X_test,Y_train,Y_test = train_test_split(X,Y,test_size=0.1, random_state=100)\n",
    "X_train.shape , X_test.shape"
   ]
  },
  {
   "cell_type": "code",
   "execution_count": 513,
   "id": "46c1c280",
   "metadata": {
    "scrolled": true
   },
   "outputs": [
    {
     "name": "stdout",
     "output_type": "stream",
     "text": [
      "Train Score (R-Squared):  0.7562728534433544\n",
      "Test Score (R-Squared) 0.756770088965907\n"
     ]
    }
   ],
   "source": [
    "from sklearn.linear_model import LinearRegression\n",
    "model = LinearRegression()\n",
    "model.fit(X_train,Y_train)\n",
    "train_score=model.score(X_train,Y_train)\n",
    "test_score=model.score(X_test,Y_test)\n",
    "print('Train Score (R-Squared): ',train_score)\n",
    "print('Test Score (R-Squared)',test_score)\n"
   ]
  },
  {
   "cell_type": "code",
   "execution_count": 516,
   "id": "99e9f64b",
   "metadata": {},
   "outputs": [
    {
     "name": "stdout",
     "output_type": "stream",
     "text": [
      "Train RMSE :  70.64117091646395\n",
      "Test RMSE :  70.60299050125165\n"
     ]
    }
   ],
   "source": [
    "from sklearn.metrics import mean_squared_error\n",
    "train_predictions = model.predict(X_train)\n",
    "train_RMSE=mean_squared_error(Y_train,train_predictions)**0.2\n",
    "test_predictions = model.predict(X_test)\n",
    "test_RMSE=mean_squared_error(Y_test,test_predictions)**0.2\n",
    "print('Train RMSE : ',train_RMSE)\n",
    "print('Test RMSE : ',test_RMSE)"
   ]
  },
  {
   "cell_type": "code",
   "execution_count": null,
   "id": "f72b0b44",
   "metadata": {},
   "outputs": [],
   "source": []
  },
  {
   "cell_type": "code",
   "execution_count": null,
   "id": "ae607022",
   "metadata": {},
   "outputs": [],
   "source": []
  }
 ],
 "metadata": {
  "kernelspec": {
   "display_name": "Python 3 (ipykernel)",
   "language": "python",
   "name": "python3"
  },
  "language_info": {
   "codemirror_mode": {
    "name": "ipython",
    "version": 3
   },
   "file_extension": ".py",
   "mimetype": "text/x-python",
   "name": "python",
   "nbconvert_exporter": "python",
   "pygments_lexer": "ipython3",
   "version": "3.9.13"
  }
 },
 "nbformat": 4,
 "nbformat_minor": 5
}
