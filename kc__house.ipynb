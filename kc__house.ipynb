{
 "cells": [
  {
   "cell_type": "code",
   "execution_count": 2,
   "id": "fc9c6599",
   "metadata": {},
   "outputs": [],
   "source": [
    "import pandas as pd\n",
    "house_data = pd.read_csv(\"kc_house_data.csv\")\n"
   ]
  },
  {
   "cell_type": "code",
   "execution_count": 3,
   "id": "f2f61033",
   "metadata": {},
   "outputs": [
    {
     "name": "stdout",
     "output_type": "stream",
     "text": [
      "(21613, 21)\n"
     ]
    }
   ],
   "source": [
    "print(house_data.shape)"
   ]
  },
  {
   "cell_type": "code",
   "execution_count": 4,
   "id": "24da9477",
   "metadata": {},
   "outputs": [
    {
     "name": "stdout",
     "output_type": "stream",
     "text": [
      "Index(['id', 'date', 'price', 'bedrooms', 'bathrooms', 'sqft_living',\n",
      "       'sqft_lot', 'floors', 'waterfront', 'view', 'condition', 'grade',\n",
      "       'sqft_above', 'sqft_basement', 'yr_built', 'yr_renovated', 'zipcode',\n",
      "       'lat', 'long', 'sqft_living15', 'sqft_lot15'],\n",
      "      dtype='object')\n"
     ]
    }
   ],
   "source": [
    "print(house_data.columns)"
   ]
  },
  {
   "cell_type": "code",
   "execution_count": 5,
   "id": "b6a1541f",
   "metadata": {},
   "outputs": [
    {
     "name": "stdout",
     "output_type": "stream",
     "text": [
      "<class 'pandas.core.frame.DataFrame'>\n",
      "RangeIndex: 21613 entries, 0 to 21612\n",
      "Data columns (total 21 columns):\n",
      " #   Column         Non-Null Count  Dtype  \n",
      "---  ------         --------------  -----  \n",
      " 0   id             21613 non-null  int64  \n",
      " 1   date           21613 non-null  object \n",
      " 2   price          21613 non-null  float64\n",
      " 3   bedrooms       21613 non-null  int64  \n",
      " 4   bathrooms      21613 non-null  float64\n",
      " 5   sqft_living    21613 non-null  int64  \n",
      " 6   sqft_lot       21613 non-null  int64  \n",
      " 7   floors         21613 non-null  float64\n",
      " 8   waterfront     21613 non-null  int64  \n",
      " 9   view           21613 non-null  int64  \n",
      " 10  condition      21613 non-null  int64  \n",
      " 11  grade          21613 non-null  int64  \n",
      " 12  sqft_above     21613 non-null  int64  \n",
      " 13  sqft_basement  21613 non-null  int64  \n",
      " 14  yr_built       21613 non-null  int64  \n",
      " 15  yr_renovated   21613 non-null  int64  \n",
      " 16  zipcode        21613 non-null  int64  \n",
      " 17  lat            21613 non-null  float64\n",
      " 18  long           21613 non-null  float64\n",
      " 19  sqft_living15  21613 non-null  int64  \n",
      " 20  sqft_lot15     21613 non-null  int64  \n",
      "dtypes: float64(5), int64(15), object(1)\n",
      "memory usage: 3.5+ MB\n",
      "None\n"
     ]
    }
   ],
   "source": [
    "print(house_data.info())"
   ]
  },
  {
   "cell_type": "code",
   "execution_count": 6,
   "id": "8ad2c378",
   "metadata": {},
   "outputs": [],
   "source": [
    "house_data_df = house_data[[\"price\",\"date\", \"bedrooms\", \n",
    "                                  \"bathrooms\", \"sqft_living\", \"floors\", \n",
    "                                  \"waterfront\", \"view\", \"condition\", \"grade\",\"zipcode\"]]\n"
   ]
  },
  {
   "cell_type": "code",
   "execution_count": 7,
   "id": "22f99ce7",
   "metadata": {},
   "outputs": [
    {
     "name": "stderr",
     "output_type": "stream",
     "text": [
      "C:\\Users\\laksh\\AppData\\Local\\Temp\\ipykernel_5340\\1152359191.py:2: SettingWithCopyWarning: \n",
      "A value is trying to be set on a copy of a slice from a DataFrame.\n",
      "Try using .loc[row_indexer,col_indexer] = value instead\n",
      "\n",
      "See the caveats in the documentation: https://pandas.pydata.org/pandas-docs/stable/user_guide/indexing.html#returning-a-view-versus-a-copy\n",
      "  house_data_df.loc[:,\"year\"] = house_data[\"date\"].str[0:4]\n",
      "C:\\Users\\laksh\\AppData\\Local\\Temp\\ipykernel_5340\\1152359191.py:3: SettingWithCopyWarning: \n",
      "A value is trying to be set on a copy of a slice from a DataFrame.\n",
      "Try using .loc[row_indexer,col_indexer] = value instead\n",
      "\n",
      "See the caveats in the documentation: https://pandas.pydata.org/pandas-docs/stable/user_guide/indexing.html#returning-a-view-versus-a-copy\n",
      "  house_data_df.loc[:,\"month\"] = house_data[\"date\"].str[4:6]\n"
     ]
    }
   ],
   "source": [
    "house_data_df.loc[:,\"year\"] = house_data[\"date\"].str[0:4]\n",
    "house_data_df.loc[:,\"month\"] = house_data[\"date\"].str[4:6]\n",
    "house_data_df = house_data_df.drop(columns=[\"date\"])\n"
   ]
  },
  {
   "cell_type": "code",
   "execution_count": 8,
   "id": "78b522d7",
   "metadata": {},
   "outputs": [
    {
     "name": "stdout",
     "output_type": "stream",
     "text": [
      "Index(['price', 'bedrooms', 'bathrooms', 'sqft_living', 'floors',\n",
      "       'waterfront_0', 'waterfront_1', 'view_0', 'view_1', 'view_2',\n",
      "       ...\n",
      "       'zipcode_98146', 'zipcode_98148', 'zipcode_98155', 'zipcode_98166',\n",
      "       'zipcode_98168', 'zipcode_98177', 'zipcode_98178', 'zipcode_98188',\n",
      "       'zipcode_98198', 'zipcode_98199'],\n",
      "      dtype='object', length=113)\n"
     ]
    }
   ],
   "source": [
    "cat_features = [\"waterfront\", \"view\", \"condition\", \"grade\", \"year\", \"month\", \"zipcode\"]\n",
    "house_data_df = pd.get_dummies(house_data_df,columns=cat_features)\n",
    "print(house_data_df.columns)\n"
   ]
  },
  {
   "cell_type": "code",
   "execution_count": 9,
   "id": "f3f0a4a7",
   "metadata": {},
   "outputs": [
    {
     "data": {
      "text/plain": [
       "array([[-0.86671733, -0.39873715, -1.44746357, -0.97983502, -0.915427  ],\n",
       "       [-0.00568792, -0.39873715,  0.1756067 ,  0.53363434,  0.93650577],\n",
       "       [-0.98084935, -1.47395936, -1.44746357, -1.42625404, -0.915427  ],\n",
       "       ...,\n",
       "       [-0.37586519, -1.47395936, -1.77207762, -1.15404732,  0.93650577],\n",
       "       [-0.38158814, -0.39873715,  0.50022075, -0.52252773,  0.93650577],\n",
       "       [-0.58588173, -1.47395936, -1.77207762, -1.15404732,  0.93650577]])"
      ]
     },
     "execution_count": 9,
     "metadata": {},
     "output_type": "execute_result"
    }
   ],
   "source": [
    "from sklearn.preprocessing import StandardScaler\n",
    "scaler = StandardScaler().fit(house_data_df[['price', 'bedrooms', 'bathrooms', 'sqft_living', 'floors']]) \n",
    "house_data_normalized = scaler.transform(house_data_df[['price', 'bedrooms', 'bathrooms', 'sqft_living', 'floors']])# Scaled data \n",
    "house_data_normalized\n"
   ]
  },
  {
   "cell_type": "code",
   "execution_count": 10,
   "id": "27d22e4a",
   "metadata": {},
   "outputs": [],
   "source": [
    "house_data_df_normalized=pd.DataFrame(house_data_normalized,columns=['price', 'bedrooms', 'bathrooms', 'sqft_living', 'floors'])\n",
    "house_data_df_normalized=house_data_df_normalized.join(house_data_df[house_data_df.columns.drop(['price', 'bedrooms', 'bathrooms', 'sqft_living', 'floors'])])\n"
   ]
  },
  {
   "cell_type": "code",
   "execution_count": 11,
   "id": "942f0a64",
   "metadata": {},
   "outputs": [
    {
     "name": "stdout",
     "output_type": "stream",
     "text": [
      "(21613, 112)\n"
     ]
    }
   ],
   "source": [
    "Y = house_data_df_normalized['price']\n",
    "X = house_data_df_normalized[house_data_df_normalized.columns.drop('price')]\n",
    "print(X.shape)\n"
   ]
  },
  {
   "cell_type": "code",
   "execution_count": 12,
   "id": "99c5f9e2",
   "metadata": {},
   "outputs": [
    {
     "data": {
      "text/plain": [
       "((17290, 112), (4323, 112))"
      ]
     },
     "execution_count": 12,
     "metadata": {},
     "output_type": "execute_result"
    }
   ],
   "source": [
    "from sklearn.model_selection import train_test_split\n",
    "X_train,X_test,Y_train,Y_test = train_test_split(X,Y,test_size=0.2, random_state=100)\n",
    "X_train.shape , X_test.shape"
   ]
  },
  {
   "cell_type": "code",
   "execution_count": 13,
   "id": "87cc6dde",
   "metadata": {},
   "outputs": [
    {
     "name": "stdout",
     "output_type": "stream",
     "text": [
      "Train Score (R-Squared):  0.8336962337960226\n",
      "Test Score (R-Squared) 0.8313795904357622\n"
     ]
    }
   ],
   "source": [
    "from sklearn.linear_model import LinearRegression\n",
    "model = LinearRegression()\n",
    "model.fit(X_train,Y_train)\n",
    "train_score=model.score(X_train,Y_train)\n",
    "test_score=model.score(X_test,Y_test)\n",
    "print('Train Score (R-Squared): ',train_score)\n",
    "print('Test Score (R-Squared)',test_score)\n"
   ]
  },
  {
   "cell_type": "code",
   "execution_count": 14,
   "id": "0f9e5e58",
   "metadata": {},
   "outputs": [
    {
     "name": "stdout",
     "output_type": "stream",
     "text": [
      "Train RMSE :  0.40780384963617566\n",
      "Test RMSE :  0.410623431970237\n"
     ]
    }
   ],
   "source": [
    "from sklearn.metrics import mean_squared_error\n",
    "train_predictions = model.predict(X_train)\n",
    "train_RMSE=mean_squared_error(Y_train,train_predictions)**0.5\n",
    "test_predictions = model.predict(X_test)\n",
    "test_RMSE=mean_squared_error(Y_test,test_predictions)**0.5\n",
    "print('Train RMSE : ',train_RMSE)\n",
    "print('Test RMSE : ',test_RMSE)"
   ]
  },
  {
   "cell_type": "code",
   "execution_count": null,
   "id": "1675e026",
   "metadata": {},
   "outputs": [],
   "source": []
  },
  {
   "cell_type": "code",
   "execution_count": null,
   "id": "5d02bebd",
   "metadata": {},
   "outputs": [],
   "source": []
  },
  {
   "cell_type": "code",
   "execution_count": null,
   "id": "98db0b4c",
   "metadata": {},
   "outputs": [],
   "source": []
  },
  {
   "cell_type": "code",
   "execution_count": null,
   "id": "ec2c42f4",
   "metadata": {},
   "outputs": [],
   "source": []
  },
  {
   "cell_type": "code",
   "execution_count": null,
   "id": "a7a9866a",
   "metadata": {},
   "outputs": [],
   "source": []
  },
  {
   "cell_type": "code",
   "execution_count": null,
   "id": "adf906aa",
   "metadata": {},
   "outputs": [],
   "source": []
  }
 ],
 "metadata": {
  "kernelspec": {
   "display_name": "Python 3 (ipykernel)",
   "language": "python",
   "name": "python3"
  },
  "language_info": {
   "codemirror_mode": {
    "name": "ipython",
    "version": 3
   },
   "file_extension": ".py",
   "mimetype": "text/x-python",
   "name": "python",
   "nbconvert_exporter": "python",
   "pygments_lexer": "ipython3",
   "version": "3.9.13"
  }
 },
 "nbformat": 4,
 "nbformat_minor": 5
}
